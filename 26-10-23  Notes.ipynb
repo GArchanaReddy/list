{
 "cells": [
  {
   "cell_type": "code",
   "execution_count": 2,
   "id": "e991427a",
   "metadata": {},
   "outputs": [
    {
     "name": "stdout",
     "output_type": "stream",
     "text": [
      "['iphone', 'realme', 'samsung']\n"
     ]
    }
   ],
   "source": [
    "list=['iphone','realme','samsung']\n",
    "print(list)"
   ]
  },
  {
   "cell_type": "code",
   "execution_count": null,
   "id": "3f3028d6",
   "metadata": {},
   "outputs": [],
   "source": [
    "Lists:\n",
    "     Lists are just like dynamically sized array,a list is a collection of things,enclosed in[] are separated by commas. List items are ordered changeable,and allow duplicate values.\n",
    "        Thec list is a sequence data type which is used to store the collection of data.Tuples and string are others types of sequence data types."
   ]
  },
  {
   "cell_type": "code",
   "execution_count": 5,
   "id": "7bf15d5c",
   "metadata": {},
   "outputs": [
    {
     "ename": "SyntaxError",
     "evalue": "invalid syntax (566017532.py, line 1)",
     "output_type": "error",
     "traceback": [
      "\u001b[1;36m  Cell \u001b[1;32mIn[5], line 1\u001b[1;36m\u001b[0m\n\u001b[1;33m    Positive slicing:\u001b[0m\n\u001b[1;37m             ^\u001b[0m\n\u001b[1;31mSyntaxError\u001b[0m\u001b[1;31m:\u001b[0m invalid syntax\n"
     ]
    }
   ],
   "source": [
    "Positive slicing:\n",
    "     syntax: string[ start:end:step:]\n",
    "      start:it starts with 0. end:n+1(length of datatype)\n",
    "           \n",
    "        Negative slicing:\n",
    "             Negative slicing in python is a way to extract a portion of a sequence (such as a list,tuple,or string)by using negative indices.Negative indices count from the end of the sequence with-1 representing the last element -2 representing the second to last element and so on.\n",
    "                syntax:sequence[-stop:start]\n",
    "                    \n",
    "\n",
    "        \n",
    "             "
   ]
  },
  {
   "cell_type": "code",
   "execution_count": 6,
   "id": "01b9f138",
   "metadata": {},
   "outputs": [
    {
     "data": {
      "text/plain": [
       "[4, 5]"
      ]
     },
     "execution_count": 6,
     "metadata": {},
     "output_type": "execute_result"
    }
   ],
   "source": [
    "my_list=[1,2,3,4,5]\n",
    "my_list[-2:]"
   ]
  },
  {
   "cell_type": "code",
   "execution_count": null,
   "id": "15da6849",
   "metadata": {},
   "outputs": [],
   "source": [
    "A nested list is alist that contains oter lists its is a elements.it is created by enclosing a comma separated sequence of sublists in square brackets[]."
   ]
  },
  {
   "cell_type": "code",
   "execution_count": 7,
   "id": "ef0c1cbf",
   "metadata": {},
   "outputs": [
    {
     "name": "stdout",
     "output_type": "stream",
     "text": [
      "[3, 4, [5, 6]]\n"
     ]
    }
   ],
   "source": [
    "num=[1,2,[3,4,[5,6]],7,8]\n",
    "print(num[2])"
   ]
  },
  {
   "cell_type": "code",
   "execution_count": null,
   "id": "d4268c5a",
   "metadata": {},
   "outputs": [],
   "source": [
    "Range():\n",
    "    Range() is abuilt in fumction that returns a sequence of numbers.The most common use of range() is to iterate over a sequence of number using python loops.\n",
    "    syntax:range( start,stop,step)"
   ]
  },
  {
   "cell_type": "code",
   "execution_count": 10,
   "id": "bc145ca9",
   "metadata": {},
   "outputs": [
    {
     "name": "stdout",
     "output_type": "stream",
     "text": [
      "0\n",
      "2\n",
      "4\n",
      "6\n",
      "8\n"
     ]
    }
   ],
   "source": [
    "i=2\n",
    "for i in range(0,10,2):\n",
    "    print(i)"
   ]
  },
  {
   "cell_type": "code",
   "execution_count": null,
   "id": "71a411be",
   "metadata": {},
   "outputs": [],
   "source": [
    "Methods\n",
    " A methods is a function that is associated with an object and can manioukate its data."
   ]
  },
  {
   "cell_type": "code",
   "execution_count": 11,
   "id": "e01e0a94",
   "metadata": {},
   "outputs": [
    {
     "data": {
      "text/plain": [
       "['__add__',\n",
       " '__class__',\n",
       " '__class_getitem__',\n",
       " '__contains__',\n",
       " '__delattr__',\n",
       " '__delitem__',\n",
       " '__dir__',\n",
       " '__doc__',\n",
       " '__eq__',\n",
       " '__format__',\n",
       " '__ge__',\n",
       " '__getattribute__',\n",
       " '__getitem__',\n",
       " '__getstate__',\n",
       " '__gt__',\n",
       " '__hash__',\n",
       " '__iadd__',\n",
       " '__imul__',\n",
       " '__init__',\n",
       " '__init_subclass__',\n",
       " '__iter__',\n",
       " '__le__',\n",
       " '__len__',\n",
       " '__lt__',\n",
       " '__mul__',\n",
       " '__ne__',\n",
       " '__new__',\n",
       " '__reduce__',\n",
       " '__reduce_ex__',\n",
       " '__repr__',\n",
       " '__reversed__',\n",
       " '__rmul__',\n",
       " '__setattr__',\n",
       " '__setitem__',\n",
       " '__sizeof__',\n",
       " '__str__',\n",
       " '__subclasshook__',\n",
       " 'append',\n",
       " 'clear',\n",
       " 'copy',\n",
       " 'count',\n",
       " 'extend',\n",
       " 'index',\n",
       " 'insert',\n",
       " 'pop',\n",
       " 'remove',\n",
       " 'reverse',\n",
       " 'sort']"
      ]
     },
     "execution_count": 11,
     "metadata": {},
     "output_type": "execute_result"
    }
   ],
   "source": [
    "dir(list)"
   ]
  },
  {
   "cell_type": "code",
   "execution_count": null,
   "id": "34767a4b",
   "metadata": {},
   "outputs": [],
   "source": [
    "append():\n",
    "     Append() is  a built in method for lists that adds an element to the end of the list.\n",
    "          syntax:\n",
    "                list.append(element)\n",
    "                "
   ]
  },
  {
   "cell_type": "code",
   "execution_count": 12,
   "id": "7392e322",
   "metadata": {},
   "outputs": [
    {
     "name": "stdout",
     "output_type": "stream",
     "text": [
      "['red', 'white', 'yellow']\n"
     ]
    }
   ],
   "source": [
    "a=['rose','lily','sunflower']\n",
    "b=['red','white','yellow']\n",
    "a.append(a)\n",
    "print(b)"
   ]
  },
  {
   "cell_type": "code",
   "execution_count": null,
   "id": "80f1de20",
   "metadata": {},
   "outputs": [],
   "source": [
    "2) extend():\n",
    "     extend() is a built in method for lists that adds the elements of an iterable (such as a list,tuple,string) to the end of the list.\n",
    "         syntax:list.extend(iterable)\n"
   ]
  },
  {
   "cell_type": "code",
   "execution_count": 14,
   "id": "5cae7a81",
   "metadata": {},
   "outputs": [
    {
     "name": "stdout",
     "output_type": "stream",
     "text": [
      "['rose', 'lotus', 'sunflower', 2, 4, 6]\n"
     ]
    }
   ],
   "source": [
    "flowers=['rose','lotus','sunflower']\n",
    "points=(2,4,6)\n",
    "flowers.extend(points)\n",
    "print(flowers)\n"
   ]
  },
  {
   "cell_type": "code",
   "execution_count": null,
   "id": "b941b9b1",
   "metadata": {},
   "outputs": [],
   "source": [
    "3) insert():\n",
    "     insert() is a buit in method for lists that adds an elements to a specific position in the list.\n",
    "        syntax:list.insert(index,element)\n",
    "            "
   ]
  },
  {
   "cell_type": "code",
   "execution_count": 15,
   "id": "5d824228",
   "metadata": {},
   "outputs": [
    {
     "name": "stdout",
     "output_type": "stream",
     "text": [
      "[11, 22, 33, 'xyz']\n"
     ]
    }
   ],
   "source": [
    "x=[11,22,33]\n",
    "x.insert(3,'xyz')\n",
    "print(x)"
   ]
  },
  {
   "cell_type": "code",
   "execution_count": null,
   "id": "35a7737a",
   "metadata": {},
   "outputs": [],
   "source": [
    "4) remove():\n",
    "     remove() is a built in method for lists that removes the first occurence of a specified element from the list.\n",
    "        syntax:list.remove(element)"
   ]
  },
  {
   "cell_type": "code",
   "execution_count": 16,
   "id": "30a112b7",
   "metadata": {},
   "outputs": [
    {
     "name": "stdout",
     "output_type": "stream",
     "text": [
      "['apple', 'orange']\n"
     ]
    }
   ],
   "source": [
    "y=['apple','orange','guava']\n",
    "y.remove('guava')\n",
    "print(y)"
   ]
  },
  {
   "cell_type": "code",
   "execution_count": null,
   "id": "84acdd83",
   "metadata": {},
   "outputs": [],
   "source": []
  },
  {
   "cell_type": "code",
   "execution_count": null,
   "id": "cb2c6695",
   "metadata": {},
   "outputs": [],
   "source": [
    "5)pop():\n",
    "    pop() is built in method for lists that removes and returns this last elements of the list.\n",
    "    syntax:list.pop(position)"
   ]
  },
  {
   "cell_type": "code",
   "execution_count": 17,
   "id": "ccf0dad3",
   "metadata": {},
   "outputs": [
    {
     "name": "stdout",
     "output_type": "stream",
     "text": [
      "[2, 4, 8]\n"
     ]
    }
   ],
   "source": [
    "a=[2,4,6,8]\n",
    "a.pop(2)\n",
    "print(a)"
   ]
  },
  {
   "cell_type": "code",
   "execution_count": null,
   "id": "d03391c3",
   "metadata": {},
   "outputs": [],
   "source": []
  }
 ],
 "metadata": {
  "kernelspec": {
   "display_name": "Python 3 (ipykernel)",
   "language": "python",
   "name": "python3"
  },
  "language_info": {
   "codemirror_mode": {
    "name": "ipython",
    "version": 3
   },
   "file_extension": ".py",
   "mimetype": "text/x-python",
   "name": "python",
   "nbconvert_exporter": "python",
   "pygments_lexer": "ipython3",
   "version": "3.11.5"
  }
 },
 "nbformat": 4,
 "nbformat_minor": 5
}
